{
 "cells": [
  {
   "cell_type": "code",
   "execution_count": 1,
   "id": "0ad1eb2e",
   "metadata": {
    "execution": {
     "iopub.execute_input": "2024-05-30T05:56:33.192839Z",
     "iopub.status.busy": "2024-05-30T05:56:33.192344Z",
     "iopub.status.idle": "2024-05-30T05:56:37.102093Z",
     "shell.execute_reply": "2024-05-30T05:56:37.100814Z"
    },
    "papermill": {
     "duration": 3.924813,
     "end_time": "2024-05-30T05:56:37.105610",
     "exception": false,
     "start_time": "2024-05-30T05:56:33.180797",
     "status": "completed"
    },
    "tags": []
   },
   "outputs": [],
   "source": [
    "import numpy as np \n",
    "import pandas as pd \n",
    "import matplotlib.pyplot as plt\n",
    "import seaborn as sns \n",
    "import re\n",
    "import nltk\n",
    "import string\n",
    "from nltk.corpus import stopwords\n",
    "from nltk.stem import LancasterStemmer\n",
    "from sklearn.feature_extraction.text import TfidfVectorizer\n",
    "from sklearn.model_selection import train_test_split\n",
    "from sklearn.naive_bayes import MultinomialNB\n",
    "from sklearn.metrics import accuracy_score, classification_report"
   ]
  },
  {
   "cell_type": "markdown",
   "id": "a4327e63",
   "metadata": {
    "papermill": {
     "duration": 0.008754,
     "end_time": "2024-05-30T05:56:37.124104",
     "exception": false,
     "start_time": "2024-05-30T05:56:37.115350",
     "status": "completed"
    },
    "tags": []
   },
   "source": [
    "# **Data Reading**"
   ]
  },
  {
   "cell_type": "code",
   "execution_count": 2,
   "id": "4730bc2b",
   "metadata": {
    "execution": {
     "iopub.execute_input": "2024-05-30T05:56:37.145114Z",
     "iopub.status.busy": "2024-05-30T05:56:37.143738Z",
     "iopub.status.idle": "2024-05-30T05:56:38.190575Z",
     "shell.execute_reply": "2024-05-30T05:56:38.189306Z"
    },
    "papermill": {
     "duration": 1.060115,
     "end_time": "2024-05-30T05:56:38.193567",
     "exception": false,
     "start_time": "2024-05-30T05:56:37.133452",
     "status": "completed"
    },
    "tags": []
   },
   "outputs": [
    {
     "data": {
      "text/html": [
       "<div>\n",
       "<style scoped>\n",
       "    .dataframe tbody tr th:only-of-type {\n",
       "        vertical-align: middle;\n",
       "    }\n",
       "\n",
       "    .dataframe tbody tr th {\n",
       "        vertical-align: top;\n",
       "    }\n",
       "\n",
       "    .dataframe thead th {\n",
       "        text-align: right;\n",
       "    }\n",
       "</style>\n",
       "<table border=\"1\" class=\"dataframe\">\n",
       "  <thead>\n",
       "    <tr style=\"text-align: right;\">\n",
       "      <th></th>\n",
       "      <th>Title</th>\n",
       "      <th>Genre</th>\n",
       "      <th>Description</th>\n",
       "    </tr>\n",
       "  </thead>\n",
       "  <tbody>\n",
       "    <tr>\n",
       "      <th>1</th>\n",
       "      <td>Oscar et la dame rose (2009)</td>\n",
       "      <td>drama</td>\n",
       "      <td>Listening in to a conversation between his do...</td>\n",
       "    </tr>\n",
       "    <tr>\n",
       "      <th>2</th>\n",
       "      <td>Cupid (1997)</td>\n",
       "      <td>thriller</td>\n",
       "      <td>A brother and sister with a past incestuous r...</td>\n",
       "    </tr>\n",
       "    <tr>\n",
       "      <th>3</th>\n",
       "      <td>Young, Wild and Wonderful (1980)</td>\n",
       "      <td>adult</td>\n",
       "      <td>As the bus empties the students for their fie...</td>\n",
       "    </tr>\n",
       "    <tr>\n",
       "      <th>4</th>\n",
       "      <td>The Secret Sin (1915)</td>\n",
       "      <td>drama</td>\n",
       "      <td>To help their unemployed father make ends mee...</td>\n",
       "    </tr>\n",
       "    <tr>\n",
       "      <th>5</th>\n",
       "      <td>The Unrecovered (2007)</td>\n",
       "      <td>drama</td>\n",
       "      <td>The film's title refers not only to the un-re...</td>\n",
       "    </tr>\n",
       "  </tbody>\n",
       "</table>\n",
       "</div>"
      ],
      "text/plain": [
       "                                Title       Genre  \\\n",
       "1       Oscar et la dame rose (2009)       drama    \n",
       "2                       Cupid (1997)    thriller    \n",
       "3   Young, Wild and Wonderful (1980)       adult    \n",
       "4              The Secret Sin (1915)       drama    \n",
       "5             The Unrecovered (2007)       drama    \n",
       "\n",
       "                                         Description  \n",
       "1   Listening in to a conversation between his do...  \n",
       "2   A brother and sister with a past incestuous r...  \n",
       "3   As the bus empties the students for their fie...  \n",
       "4   To help their unemployed father make ends mee...  \n",
       "5   The film's title refers not only to the un-re...  "
      ]
     },
     "execution_count": 2,
     "metadata": {},
     "output_type": "execute_result"
    }
   ],
   "source": [
    "train_path = \"/kaggle/input/genre-classification-dataset-imdb/Genre Classification Dataset/train_data.txt\"\n",
    "train_data = pd.read_csv(train_path, sep=':::', names=['Title', 'Genre', 'Description'], engine='python')\n",
    "train_data.head()"
   ]
  },
  {
   "cell_type": "code",
   "execution_count": 3,
   "id": "1e54e7e7",
   "metadata": {
    "execution": {
     "iopub.execute_input": "2024-05-30T05:56:38.214028Z",
     "iopub.status.busy": "2024-05-30T05:56:38.213564Z",
     "iopub.status.idle": "2024-05-30T05:56:39.124929Z",
     "shell.execute_reply": "2024-05-30T05:56:39.123449Z"
    },
    "papermill": {
     "duration": 0.925655,
     "end_time": "2024-05-30T05:56:39.128649",
     "exception": false,
     "start_time": "2024-05-30T05:56:38.202994",
     "status": "completed"
    },
    "tags": []
   },
   "outputs": [
    {
     "data": {
      "text/html": [
       "<div>\n",
       "<style scoped>\n",
       "    .dataframe tbody tr th:only-of-type {\n",
       "        vertical-align: middle;\n",
       "    }\n",
       "\n",
       "    .dataframe tbody tr th {\n",
       "        vertical-align: top;\n",
       "    }\n",
       "\n",
       "    .dataframe thead th {\n",
       "        text-align: right;\n",
       "    }\n",
       "</style>\n",
       "<table border=\"1\" class=\"dataframe\">\n",
       "  <thead>\n",
       "    <tr style=\"text-align: right;\">\n",
       "      <th></th>\n",
       "      <th>Id</th>\n",
       "      <th>Title</th>\n",
       "      <th>Description</th>\n",
       "    </tr>\n",
       "  </thead>\n",
       "  <tbody>\n",
       "    <tr>\n",
       "      <th>0</th>\n",
       "      <td>1</td>\n",
       "      <td>Edgar's Lunch (1998)</td>\n",
       "      <td>L.R. Brane loves his life - his car, his apar...</td>\n",
       "    </tr>\n",
       "    <tr>\n",
       "      <th>1</th>\n",
       "      <td>2</td>\n",
       "      <td>La guerra de papá (1977)</td>\n",
       "      <td>Spain, March 1964: Quico is a very naughty ch...</td>\n",
       "    </tr>\n",
       "    <tr>\n",
       "      <th>2</th>\n",
       "      <td>3</td>\n",
       "      <td>Off the Beaten Track (2010)</td>\n",
       "      <td>One year in the life of Albin and his family ...</td>\n",
       "    </tr>\n",
       "    <tr>\n",
       "      <th>3</th>\n",
       "      <td>4</td>\n",
       "      <td>Meu Amigo Hindu (2015)</td>\n",
       "      <td>His father has died, he hasn't spoken with hi...</td>\n",
       "    </tr>\n",
       "    <tr>\n",
       "      <th>4</th>\n",
       "      <td>5</td>\n",
       "      <td>Er nu zhai (1955)</td>\n",
       "      <td>Before he was known internationally as a mart...</td>\n",
       "    </tr>\n",
       "  </tbody>\n",
       "</table>\n",
       "</div>"
      ],
      "text/plain": [
       "   Id                          Title  \\\n",
       "0   1          Edgar's Lunch (1998)    \n",
       "1   2      La guerra de papá (1977)    \n",
       "2   3   Off the Beaten Track (2010)    \n",
       "3   4        Meu Amigo Hindu (2015)    \n",
       "4   5             Er nu zhai (1955)    \n",
       "\n",
       "                                         Description  \n",
       "0   L.R. Brane loves his life - his car, his apar...  \n",
       "1   Spain, March 1964: Quico is a very naughty ch...  \n",
       "2   One year in the life of Albin and his family ...  \n",
       "3   His father has died, he hasn't spoken with hi...  \n",
       "4   Before he was known internationally as a mart...  "
      ]
     },
     "execution_count": 3,
     "metadata": {},
     "output_type": "execute_result"
    }
   ],
   "source": [
    "test_path = \"/kaggle/input/genre-classification-dataset-imdb/Genre Classification Dataset/test_data.txt\"\n",
    "test_data = pd.read_csv(test_path, sep=':::', names=['Id', 'Title', 'Description'], engine='python')\n",
    "test_data.head()"
   ]
  },
  {
   "cell_type": "markdown",
   "id": "e1558b6a",
   "metadata": {
    "papermill": {
     "duration": 0.011006,
     "end_time": "2024-05-30T05:56:39.151524",
     "exception": false,
     "start_time": "2024-05-30T05:56:39.140518",
     "status": "completed"
    },
    "tags": []
   },
   "source": [
    "# **Exploratory data analysis**"
   ]
  },
  {
   "cell_type": "code",
   "execution_count": 4,
   "id": "7bf0f9be",
   "metadata": {
    "execution": {
     "iopub.execute_input": "2024-05-30T05:56:39.176506Z",
     "iopub.status.busy": "2024-05-30T05:56:39.175934Z",
     "iopub.status.idle": "2024-05-30T05:56:39.214862Z",
     "shell.execute_reply": "2024-05-30T05:56:39.213531Z"
    },
    "papermill": {
     "duration": 0.054214,
     "end_time": "2024-05-30T05:56:39.217623",
     "exception": false,
     "start_time": "2024-05-30T05:56:39.163409",
     "status": "completed"
    },
    "tags": []
   },
   "outputs": [
    {
     "data": {
      "text/plain": [
       "Title          0\n",
       "Genre          0\n",
       "Description    0\n",
       "dtype: int64"
      ]
     },
     "execution_count": 4,
     "metadata": {},
     "output_type": "execute_result"
    }
   ],
   "source": [
    "train_data.isna().sum()"
   ]
  },
  {
   "cell_type": "code",
   "execution_count": 5,
   "id": "84ca93ee",
   "metadata": {
    "execution": {
     "iopub.execute_input": "2024-05-30T05:56:39.239749Z",
     "iopub.status.busy": "2024-05-30T05:56:39.239048Z",
     "iopub.status.idle": "2024-05-30T05:56:39.265285Z",
     "shell.execute_reply": "2024-05-30T05:56:39.264154Z"
    },
    "papermill": {
     "duration": 0.040189,
     "end_time": "2024-05-30T05:56:39.267800",
     "exception": false,
     "start_time": "2024-05-30T05:56:39.227611",
     "status": "completed"
    },
    "tags": []
   },
   "outputs": [
    {
     "data": {
      "text/plain": [
       "Id             0\n",
       "Title          0\n",
       "Description    0\n",
       "dtype: int64"
      ]
     },
     "execution_count": 5,
     "metadata": {},
     "output_type": "execute_result"
    }
   ],
   "source": [
    "test_data.isna().sum()"
   ]
  },
  {
   "cell_type": "code",
   "execution_count": 6,
   "id": "6329eaa4",
   "metadata": {
    "execution": {
     "iopub.execute_input": "2024-05-30T05:56:39.289090Z",
     "iopub.status.busy": "2024-05-30T05:56:39.288649Z",
     "iopub.status.idle": "2024-05-30T05:56:39.459501Z",
     "shell.execute_reply": "2024-05-30T05:56:39.458313Z"
    },
    "papermill": {
     "duration": 0.184797,
     "end_time": "2024-05-30T05:56:39.462371",
     "exception": false,
     "start_time": "2024-05-30T05:56:39.277574",
     "status": "completed"
    },
    "tags": []
   },
   "outputs": [
    {
     "data": {
      "text/html": [
       "<div>\n",
       "<style scoped>\n",
       "    .dataframe tbody tr th:only-of-type {\n",
       "        vertical-align: middle;\n",
       "    }\n",
       "\n",
       "    .dataframe tbody tr th {\n",
       "        vertical-align: top;\n",
       "    }\n",
       "\n",
       "    .dataframe thead th {\n",
       "        text-align: right;\n",
       "    }\n",
       "</style>\n",
       "<table border=\"1\" class=\"dataframe\">\n",
       "  <thead>\n",
       "    <tr style=\"text-align: right;\">\n",
       "      <th></th>\n",
       "      <th>Title</th>\n",
       "      <th>Genre</th>\n",
       "      <th>Description</th>\n",
       "    </tr>\n",
       "  </thead>\n",
       "  <tbody>\n",
       "    <tr>\n",
       "      <th>count</th>\n",
       "      <td>54214</td>\n",
       "      <td>54214</td>\n",
       "      <td>54214</td>\n",
       "    </tr>\n",
       "    <tr>\n",
       "      <th>unique</th>\n",
       "      <td>54214</td>\n",
       "      <td>27</td>\n",
       "      <td>54086</td>\n",
       "    </tr>\n",
       "    <tr>\n",
       "      <th>top</th>\n",
       "      <td>Oscar et la dame rose (2009)</td>\n",
       "      <td>drama</td>\n",
       "      <td>Grammy - music award of the American academy ...</td>\n",
       "    </tr>\n",
       "    <tr>\n",
       "      <th>freq</th>\n",
       "      <td>1</td>\n",
       "      <td>13613</td>\n",
       "      <td>12</td>\n",
       "    </tr>\n",
       "  </tbody>\n",
       "</table>\n",
       "</div>"
      ],
      "text/plain": [
       "                                 Title    Genre  \\\n",
       "count                            54214    54214   \n",
       "unique                           54214       27   \n",
       "top      Oscar et la dame rose (2009)    drama    \n",
       "freq                                 1    13613   \n",
       "\n",
       "                                              Description  \n",
       "count                                               54214  \n",
       "unique                                              54086  \n",
       "top      Grammy - music award of the American academy ...  \n",
       "freq                                                   12  "
      ]
     },
     "execution_count": 6,
     "metadata": {},
     "output_type": "execute_result"
    }
   ],
   "source": [
    "train_data.describe()"
   ]
  },
  {
   "cell_type": "code",
   "execution_count": 7,
   "id": "8275d289",
   "metadata": {
    "execution": {
     "iopub.execute_input": "2024-05-30T05:56:39.485430Z",
     "iopub.status.busy": "2024-05-30T05:56:39.484962Z",
     "iopub.status.idle": "2024-05-30T05:56:39.506394Z",
     "shell.execute_reply": "2024-05-30T05:56:39.505186Z"
    },
    "papermill": {
     "duration": 0.035924,
     "end_time": "2024-05-30T05:56:39.509332",
     "exception": false,
     "start_time": "2024-05-30T05:56:39.473408",
     "status": "completed"
    },
    "tags": []
   },
   "outputs": [
    {
     "data": {
      "text/html": [
       "<div>\n",
       "<style scoped>\n",
       "    .dataframe tbody tr th:only-of-type {\n",
       "        vertical-align: middle;\n",
       "    }\n",
       "\n",
       "    .dataframe tbody tr th {\n",
       "        vertical-align: top;\n",
       "    }\n",
       "\n",
       "    .dataframe thead th {\n",
       "        text-align: right;\n",
       "    }\n",
       "</style>\n",
       "<table border=\"1\" class=\"dataframe\">\n",
       "  <thead>\n",
       "    <tr style=\"text-align: right;\">\n",
       "      <th></th>\n",
       "      <th>Id</th>\n",
       "    </tr>\n",
       "  </thead>\n",
       "  <tbody>\n",
       "    <tr>\n",
       "      <th>count</th>\n",
       "      <td>54200.000000</td>\n",
       "    </tr>\n",
       "    <tr>\n",
       "      <th>mean</th>\n",
       "      <td>27100.500000</td>\n",
       "    </tr>\n",
       "    <tr>\n",
       "      <th>std</th>\n",
       "      <td>15646.336632</td>\n",
       "    </tr>\n",
       "    <tr>\n",
       "      <th>min</th>\n",
       "      <td>1.000000</td>\n",
       "    </tr>\n",
       "    <tr>\n",
       "      <th>25%</th>\n",
       "      <td>13550.750000</td>\n",
       "    </tr>\n",
       "    <tr>\n",
       "      <th>50%</th>\n",
       "      <td>27100.500000</td>\n",
       "    </tr>\n",
       "    <tr>\n",
       "      <th>75%</th>\n",
       "      <td>40650.250000</td>\n",
       "    </tr>\n",
       "    <tr>\n",
       "      <th>max</th>\n",
       "      <td>54200.000000</td>\n",
       "    </tr>\n",
       "  </tbody>\n",
       "</table>\n",
       "</div>"
      ],
      "text/plain": [
       "                 Id\n",
       "count  54200.000000\n",
       "mean   27100.500000\n",
       "std    15646.336632\n",
       "min        1.000000\n",
       "25%    13550.750000\n",
       "50%    27100.500000\n",
       "75%    40650.250000\n",
       "max    54200.000000"
      ]
     },
     "execution_count": 7,
     "metadata": {},
     "output_type": "execute_result"
    }
   ],
   "source": [
    "test_data.describe()"
   ]
  },
  {
   "cell_type": "markdown",
   "id": "745d94cb",
   "metadata": {
    "papermill": {
     "duration": 0.01012,
     "end_time": "2024-05-30T05:56:39.529540",
     "exception": false,
     "start_time": "2024-05-30T05:56:39.519420",
     "status": "completed"
    },
    "tags": []
   },
   "source": [
    "**Counting movies based on their genre**"
   ]
  },
  {
   "cell_type": "code",
   "execution_count": 8,
   "id": "33b72c3f",
   "metadata": {
    "execution": {
     "iopub.execute_input": "2024-05-30T05:56:39.551821Z",
     "iopub.status.busy": "2024-05-30T05:56:39.551339Z",
     "iopub.status.idle": "2024-05-30T05:56:39.567718Z",
     "shell.execute_reply": "2024-05-30T05:56:39.566778Z"
    },
    "papermill": {
     "duration": 0.030255,
     "end_time": "2024-05-30T05:56:39.569982",
     "exception": false,
     "start_time": "2024-05-30T05:56:39.539727",
     "status": "completed"
    },
    "tags": []
   },
   "outputs": [
    {
     "data": {
      "text/plain": [
       "Genre\n",
       "drama           13613\n",
       "documentary     13096\n",
       "comedy           7447\n",
       "short            5073\n",
       "horror           2204\n",
       "thriller         1591\n",
       "action           1315\n",
       "western          1032\n",
       "reality-tv        884\n",
       "family            784\n",
       "adventure         775\n",
       "music             731\n",
       "romance           672\n",
       "sci-fi            647\n",
       "adult             590\n",
       "crime             505\n",
       "animation         498\n",
       "sport             432\n",
       "talk-show         391\n",
       "fantasy           323\n",
       "mystery           319\n",
       "musical           277\n",
       "biography         265\n",
       "history           243\n",
       "game-show         194\n",
       "news              181\n",
       "war               132\n",
       "Name: count, dtype: int64"
      ]
     },
     "execution_count": 8,
     "metadata": {},
     "output_type": "execute_result"
    }
   ],
   "source": [
    "class_distribution = train_data['Genre'].value_counts()\n",
    "class_distribution"
   ]
  },
  {
   "cell_type": "code",
   "execution_count": 9,
   "id": "90976d3f",
   "metadata": {
    "execution": {
     "iopub.execute_input": "2024-05-30T05:56:39.597017Z",
     "iopub.status.busy": "2024-05-30T05:56:39.595861Z",
     "iopub.status.idle": "2024-05-30T05:56:40.213858Z",
     "shell.execute_reply": "2024-05-30T05:56:40.212490Z"
    },
    "papermill": {
     "duration": 0.633944,
     "end_time": "2024-05-30T05:56:40.216751",
     "exception": false,
     "start_time": "2024-05-30T05:56:39.582807",
     "status": "completed"
    },
    "tags": []
   },
   "outputs": [
    {
     "data": {
      "image/png": "[encoded data removed]",
      "text/plain": [
       "<Figure size 1000x1500 with 1 Axes>"
      ]
     },
     "metadata": {},
     "output_type": "display_data"
    }
   ],
   "source": [
    "plt.figure(figsize=(10,15))\n",
    "sns.countplot(data=train_data, y=\"Genre\", order= train_data[\"Genre\"].value_counts().index)\n",
    "plt.show()"
   ]
  },
  {
   "cell_type": "code",
   "execution_count": 10,
   "id": "8b412f07",
   "metadata": {
    "execution": {
     "iopub.execute_input": "2024-05-30T05:56:40.240914Z",
     "iopub.status.busy": "2024-05-30T05:56:40.240436Z",
     "iopub.status.idle": "2024-05-30T05:56:40.748745Z",
     "shell.execute_reply": "2024-05-30T05:56:40.747717Z"
    },
    "papermill": {
     "duration": 0.523846,
     "end_time": "2024-05-30T05:56:40.751730",
     "exception": false,
     "start_time": "2024-05-30T05:56:40.227884",
     "status": "completed"
    },
    "tags": []
   },
   "outputs": [
    {
     "data": {
      "image/png": "[encoded data removed]",
      "text/plain": [
       "<Figure size 800x600 with 1 Axes>"
      ]
     },
     "metadata": {},
     "output_type": "display_data"
    }
   ],
   "source": [
    "plt.figure(figsize=(8, 6))\n",
    "class_distribution.plot(kind='bar', color='darkblue')\n",
    "plt.title('Class Distribution')\n",
    "plt.xlabel('Class')\n",
    "plt.ylabel('Frequency')\n",
    "plt.xticks(rotation=65)\n",
    "plt.show()"
   ]
  },
  {
   "cell_type": "markdown",
   "id": "e42d0d11",
   "metadata": {
    "papermill": {
     "duration": 0.011957,
     "end_time": "2024-05-30T05:56:40.775891",
     "exception": false,
     "start_time": "2024-05-30T05:56:40.763934",
     "status": "completed"
    },
    "tags": []
   },
   "source": [
    "# Data Preprocessing"
   ]
  },
  {
   "cell_type": "code",
   "execution_count": 11,
   "id": "567a19f2",
   "metadata": {
    "execution": {
     "iopub.execute_input": "2024-05-30T05:56:40.803528Z",
     "iopub.status.busy": "2024-05-30T05:56:40.802592Z",
     "iopub.status.idle": "2024-05-30T05:59:37.146371Z",
     "shell.execute_reply": "2024-05-30T05:59:37.145125Z"
    },
    "papermill": {
     "duration": 176.36156,
     "end_time": "2024-05-30T05:59:37.149504",
     "exception": false,
     "start_time": "2024-05-30T05:56:40.787944",
     "status": "completed"
    },
    "tags": []
   },
   "outputs": [],
   "source": [
    "stemmer = LancasterStemmer()\n",
    "stop_words = set(stopwords.words('english'))\n",
    "\n",
    "# Define the clean_text function\n",
    "def clean_text(text):\n",
    "    text = text.lower()  # Lowercase all characters\n",
    "    text = re.sub(r'@\\S+', '', text)  # Remove Twitter handles\n",
    "    text = re.sub(r'http\\S+', '', text)  # Remove URLs\n",
    "    text = re.sub(r'pic.\\S+', '', text)\n",
    "    text = re.sub(r\"[^a-zA-Z+']\", ' ', text)  # Keep only characters\n",
    "    text = re.sub(r'\\s+[a-zA-Z]\\s+', ' ', text + ' ')  # Keep words with length > 1 only\n",
    "    text = \"\".join([i for i in text if i not in string.punctuation])\n",
    "    words = nltk.word_tokenize(text)\n",
    "    stopwords = nltk.corpus.stopwords.words('english')  # Remove stopwords\n",
    "    text = \" \".join([i for i in words if i not in stopwords and len(i) > 2])\n",
    "    text = re.sub(\"\\s[\\s]+\", \" \", text).strip()  # Remove repeated/leading/trailing spaces\n",
    "    return text\n",
    "\n",
    "# Apply the clean_text function to the 'Description' column in the training and test data\n",
    "train_data['Text_cleaning'] = train_data['Description'].apply(clean_text)\n",
    "test_data['Text_cleaning'] = test_data['Description'].apply(clean_text)"
   ]
  },
  {
   "cell_type": "code",
   "execution_count": 12,
   "id": "181d4194",
   "metadata": {
    "execution": {
     "iopub.execute_input": "2024-05-30T05:59:37.176256Z",
     "iopub.status.busy": "2024-05-30T05:59:37.175345Z",
     "iopub.status.idle": "2024-05-30T05:59:37.188735Z",
     "shell.execute_reply": "2024-05-30T05:59:37.187601Z"
    },
    "papermill": {
     "duration": 0.030247,
     "end_time": "2024-05-30T05:59:37.192291",
     "exception": false,
     "start_time": "2024-05-30T05:59:37.162044",
     "status": "completed"
    },
    "tags": []
   },
   "outputs": [
    {
     "data": {
      "text/html": [
       "<div>\n",
       "<style scoped>\n",
       "    .dataframe tbody tr th:only-of-type {\n",
       "        vertical-align: middle;\n",
       "    }\n",
       "\n",
       "    .dataframe tbody tr th {\n",
       "        vertical-align: top;\n",
       "    }\n",
       "\n",
       "    .dataframe thead th {\n",
       "        text-align: right;\n",
       "    }\n",
       "</style>\n",
       "<table border=\"1\" class=\"dataframe\">\n",
       "  <thead>\n",
       "    <tr style=\"text-align: right;\">\n",
       "      <th></th>\n",
       "      <th>Title</th>\n",
       "      <th>Genre</th>\n",
       "      <th>Description</th>\n",
       "      <th>Text_cleaning</th>\n",
       "    </tr>\n",
       "  </thead>\n",
       "  <tbody>\n",
       "    <tr>\n",
       "      <th>1</th>\n",
       "      <td>Oscar et la dame rose (2009)</td>\n",
       "      <td>drama</td>\n",
       "      <td>Listening in to a conversation between his do...</td>\n",
       "      <td>listening conversation doctor parents year old...</td>\n",
       "    </tr>\n",
       "    <tr>\n",
       "      <th>2</th>\n",
       "      <td>Cupid (1997)</td>\n",
       "      <td>thriller</td>\n",
       "      <td>A brother and sister with a past incestuous r...</td>\n",
       "      <td>brother sister past incestuous relationship cu...</td>\n",
       "    </tr>\n",
       "    <tr>\n",
       "      <th>3</th>\n",
       "      <td>Young, Wild and Wonderful (1980)</td>\n",
       "      <td>adult</td>\n",
       "      <td>As the bus empties the students for their fie...</td>\n",
       "      <td>bus empties students field trip museum natural...</td>\n",
       "    </tr>\n",
       "    <tr>\n",
       "      <th>4</th>\n",
       "      <td>The Secret Sin (1915)</td>\n",
       "      <td>drama</td>\n",
       "      <td>To help their unemployed father make ends mee...</td>\n",
       "      <td>help unemployed father make ends meet edith tw...</td>\n",
       "    </tr>\n",
       "    <tr>\n",
       "      <th>5</th>\n",
       "      <td>The Unrecovered (2007)</td>\n",
       "      <td>drama</td>\n",
       "      <td>The film's title refers not only to the un-re...</td>\n",
       "      <td>films title refers recovered bodies ground zer...</td>\n",
       "    </tr>\n",
       "  </tbody>\n",
       "</table>\n",
       "</div>"
      ],
      "text/plain": [
       "                                Title       Genre  \\\n",
       "1       Oscar et la dame rose (2009)       drama    \n",
       "2                       Cupid (1997)    thriller    \n",
       "3   Young, Wild and Wonderful (1980)       adult    \n",
       "4              The Secret Sin (1915)       drama    \n",
       "5             The Unrecovered (2007)       drama    \n",
       "\n",
       "                                         Description  \\\n",
       "1   Listening in to a conversation between his do...   \n",
       "2   A brother and sister with a past incestuous r...   \n",
       "3   As the bus empties the students for their fie...   \n",
       "4   To help their unemployed father make ends mee...   \n",
       "5   The film's title refers not only to the un-re...   \n",
       "\n",
       "                                       Text_cleaning  \n",
       "1  listening conversation doctor parents year old...  \n",
       "2  brother sister past incestuous relationship cu...  \n",
       "3  bus empties students field trip museum natural...  \n",
       "4  help unemployed father make ends meet edith tw...  \n",
       "5  films title refers recovered bodies ground zer...  "
      ]
     },
     "execution_count": 12,
     "metadata": {},
     "output_type": "execute_result"
    }
   ],
   "source": [
    "train_data.head()"
   ]
  },
  {
   "cell_type": "code",
   "execution_count": 13,
   "id": "5b7a3630",
   "metadata": {
    "execution": {
     "iopub.execute_input": "2024-05-30T05:59:37.219025Z",
     "iopub.status.busy": "2024-05-30T05:59:37.218613Z",
     "iopub.status.idle": "2024-05-30T05:59:37.231870Z",
     "shell.execute_reply": "2024-05-30T05:59:37.230445Z"
    },
    "papermill": {
     "duration": 0.030752,
     "end_time": "2024-05-30T05:59:37.235500",
     "exception": false,
     "start_time": "2024-05-30T05:59:37.204748",
     "status": "completed"
    },
    "tags": []
   },
   "outputs": [
    {
     "data": {
      "text/html": [
       "<div>\n",
       "<style scoped>\n",
       "    .dataframe tbody tr th:only-of-type {\n",
       "        vertical-align: middle;\n",
       "    }\n",
       "\n",
       "    .dataframe tbody tr th {\n",
       "        vertical-align: top;\n",
       "    }\n",
       "\n",
       "    .dataframe thead th {\n",
       "        text-align: right;\n",
       "    }\n",
       "</style>\n",
       "<table border=\"1\" class=\"dataframe\">\n",
       "  <thead>\n",
       "    <tr style=\"text-align: right;\">\n",
       "      <th></th>\n",
       "      <th>Id</th>\n",
       "      <th>Title</th>\n",
       "      <th>Description</th>\n",
       "      <th>Text_cleaning</th>\n",
       "    </tr>\n",
       "  </thead>\n",
       "  <tbody>\n",
       "    <tr>\n",
       "      <th>0</th>\n",
       "      <td>1</td>\n",
       "      <td>Edgar's Lunch (1998)</td>\n",
       "      <td>L.R. Brane loves his life - his car, his apar...</td>\n",
       "      <td>brane loves life car apartment job especially ...</td>\n",
       "    </tr>\n",
       "    <tr>\n",
       "      <th>1</th>\n",
       "      <td>2</td>\n",
       "      <td>La guerra de papá (1977)</td>\n",
       "      <td>Spain, March 1964: Quico is a very naughty ch...</td>\n",
       "      <td>spain march quico naughty child three belongin...</td>\n",
       "    </tr>\n",
       "    <tr>\n",
       "      <th>2</th>\n",
       "      <td>3</td>\n",
       "      <td>Off the Beaten Track (2010)</td>\n",
       "      <td>One year in the life of Albin and his family ...</td>\n",
       "      <td>one year life albin family shepherds north tra...</td>\n",
       "    </tr>\n",
       "    <tr>\n",
       "      <th>3</th>\n",
       "      <td>4</td>\n",
       "      <td>Meu Amigo Hindu (2015)</td>\n",
       "      <td>His father has died, he hasn't spoken with hi...</td>\n",
       "      <td>father died hasnt spoken brother years serious...</td>\n",
       "    </tr>\n",
       "    <tr>\n",
       "      <th>4</th>\n",
       "      <td>5</td>\n",
       "      <td>Er nu zhai (1955)</td>\n",
       "      <td>Before he was known internationally as a mart...</td>\n",
       "      <td>known internationally martial arts superstar b...</td>\n",
       "    </tr>\n",
       "  </tbody>\n",
       "</table>\n",
       "</div>"
      ],
      "text/plain": [
       "   Id                          Title  \\\n",
       "0   1          Edgar's Lunch (1998)    \n",
       "1   2      La guerra de papá (1977)    \n",
       "2   3   Off the Beaten Track (2010)    \n",
       "3   4        Meu Amigo Hindu (2015)    \n",
       "4   5             Er nu zhai (1955)    \n",
       "\n",
       "                                         Description  \\\n",
       "0   L.R. Brane loves his life - his car, his apar...   \n",
       "1   Spain, March 1964: Quico is a very naughty ch...   \n",
       "2   One year in the life of Albin and his family ...   \n",
       "3   His father has died, he hasn't spoken with hi...   \n",
       "4   Before he was known internationally as a mart...   \n",
       "\n",
       "                                       Text_cleaning  \n",
       "0  brane loves life car apartment job especially ...  \n",
       "1  spain march quico naughty child three belongin...  \n",
       "2  one year life albin family shepherds north tra...  \n",
       "3  father died hasnt spoken brother years serious...  \n",
       "4  known internationally martial arts superstar b...  "
      ]
     },
     "execution_count": 13,
     "metadata": {},
     "output_type": "execute_result"
    }
   ],
   "source": [
    "test_data.head()"
   ]
  },
  {
   "cell_type": "markdown",
   "id": "1c97f9b1",
   "metadata": {
    "papermill": {
     "duration": 0.012639,
     "end_time": "2024-05-30T05:59:37.261314",
     "exception": false,
     "start_time": "2024-05-30T05:59:37.248675",
     "status": "completed"
    },
    "tags": []
   },
   "source": [
    "# Vectorizing data"
   ]
  },
  {
   "cell_type": "code",
   "execution_count": 14,
   "id": "76dcff51",
   "metadata": {
    "execution": {
     "iopub.execute_input": "2024-05-30T05:59:37.288417Z",
     "iopub.status.busy": "2024-05-30T05:59:37.287980Z",
     "iopub.status.idle": "2024-05-30T05:59:46.898402Z",
     "shell.execute_reply": "2024-05-30T05:59:46.897153Z"
    },
    "papermill": {
     "duration": 9.627928,
     "end_time": "2024-05-30T05:59:46.901878",
     "exception": false,
     "start_time": "2024-05-30T05:59:37.273950",
     "status": "completed"
    },
    "tags": []
   },
   "outputs": [],
   "source": [
    "# Initialize the TF-IDF vectorizer\n",
    "tfidf_vectorizer = TfidfVectorizer()\n",
    "\n",
    "# Fit and transform the training data\n",
    "X_train = tfidf_vectorizer.fit_transform(train_data['Text_cleaning'])\n",
    "\n",
    "# Transform the test data\n",
    "X_test = tfidf_vectorizer.transform(test_data['Text_cleaning'])"
   ]
  },
  {
   "cell_type": "markdown",
   "id": "66934418",
   "metadata": {
    "papermill": {
     "duration": 0.012294,
     "end_time": "2024-05-30T05:59:46.927122",
     "exception": false,
     "start_time": "2024-05-30T05:59:46.914828",
     "status": "completed"
    },
    "tags": []
   },
   "source": [
    "# Spliting data into train data and test data"
   ]
  },
  {
   "cell_type": "code",
   "execution_count": 15,
   "id": "62600eab",
   "metadata": {
    "execution": {
     "iopub.execute_input": "2024-05-30T05:59:46.955045Z",
     "iopub.status.busy": "2024-05-30T05:59:46.954065Z",
     "iopub.status.idle": "2024-05-30T05:59:46.979999Z",
     "shell.execute_reply": "2024-05-30T05:59:46.978491Z"
    },
    "papermill": {
     "duration": 0.043175,
     "end_time": "2024-05-30T05:59:46.982960",
     "exception": false,
     "start_time": "2024-05-30T05:59:46.939785",
     "status": "completed"
    },
    "tags": []
   },
   "outputs": [],
   "source": [
    "X = X_train\n",
    "y = train_data['Genre']\n",
    "\n",
    "X_train, X_val, y_train, y_val = train_test_split(X, y, test_size=0.2, random_state=42)"
   ]
  },
  {
   "cell_type": "markdown",
   "id": "025c9f31",
   "metadata": {
    "papermill": {
     "duration": 0.012723,
     "end_time": "2024-05-30T05:59:47.008422",
     "exception": false,
     "start_time": "2024-05-30T05:59:46.995699",
     "status": "completed"
    },
    "tags": []
   },
   "source": [
    "# Training Model"
   ]
  },
  {
   "cell_type": "code",
   "execution_count": 16,
   "id": "a12ca2d3",
   "metadata": {
    "execution": {
     "iopub.execute_input": "2024-05-30T05:59:47.035845Z",
     "iopub.status.busy": "2024-05-30T05:59:47.035387Z",
     "iopub.status.idle": "2024-05-30T05:59:48.122368Z",
     "shell.execute_reply": "2024-05-30T05:59:48.121207Z"
    },
    "papermill": {
     "duration": 1.105626,
     "end_time": "2024-05-30T05:59:48.126643",
     "exception": false,
     "start_time": "2024-05-30T05:59:47.021017",
     "status": "completed"
    },
    "tags": []
   },
   "outputs": [
    {
     "name": "stdout",
     "output_type": "stream",
     "text": [
      "Validation Accuracy: 0.44526422576777647\n"
     ]
    },
    {
     "name": "stderr",
     "output_type": "stream",
     "text": [
      "/opt/conda/lib/python3.10/site-packages/sklearn/metrics/_classification.py:1344: UndefinedMetricWarning: Precision and F-score are ill-defined and being set to 0.0 in labels with no predicted samples. Use `zero_division` parameter to control this behavior.\n",
      "  _warn_prf(average, modifier, msg_start, len(result))\n",
      "/opt/conda/lib/python3.10/site-packages/sklearn/metrics/_classification.py:1344: UndefinedMetricWarning: Precision and F-score are ill-defined and being set to 0.0 in labels with no predicted samples. Use `zero_division` parameter to control this behavior.\n",
      "  _warn_prf(average, modifier, msg_start, len(result))\n"
     ]
    },
    {
     "name": "stdout",
     "output_type": "stream",
     "text": [
      "               precision    recall  f1-score   support\n",
      "\n",
      "      action        0.00      0.00      0.00       263\n",
      "       adult        0.00      0.00      0.00       112\n",
      "   adventure        0.00      0.00      0.00       139\n",
      "   animation        0.00      0.00      0.00       104\n",
      "   biography        0.00      0.00      0.00        61\n",
      "      comedy        0.61      0.04      0.07      1443\n",
      "       crime        0.00      0.00      0.00       107\n",
      " documentary        0.54      0.90      0.67      2659\n",
      "       drama        0.38      0.88      0.53      2697\n",
      "      family        0.00      0.00      0.00       150\n",
      "     fantasy        0.00      0.00      0.00        74\n",
      "   game-show        0.00      0.00      0.00        40\n",
      "     history        0.00      0.00      0.00        45\n",
      "      horror        0.00      0.00      0.00       431\n",
      "       music        0.00      0.00      0.00       144\n",
      "     musical        0.00      0.00      0.00        50\n",
      "     mystery        0.00      0.00      0.00        56\n",
      "        news        0.00      0.00      0.00        34\n",
      "  reality-tv        0.00      0.00      0.00       192\n",
      "     romance        0.00      0.00      0.00       151\n",
      "      sci-fi        0.00      0.00      0.00       143\n",
      "       short        0.50      0.00      0.00      1045\n",
      "       sport        0.00      0.00      0.00        93\n",
      "   talk-show        0.00      0.00      0.00        81\n",
      "    thriller        0.00      0.00      0.00       309\n",
      "         war        0.00      0.00      0.00        20\n",
      "     western        0.00      0.00      0.00       200\n",
      "\n",
      "     accuracy                           0.45     10843\n",
      "    macro avg       0.08      0.07      0.05     10843\n",
      " weighted avg       0.36      0.45      0.31     10843\n",
      "\n"
     ]
    },
    {
     "name": "stderr",
     "output_type": "stream",
     "text": [
      "/opt/conda/lib/python3.10/site-packages/sklearn/metrics/_classification.py:1344: UndefinedMetricWarning: Precision and F-score are ill-defined and being set to 0.0 in labels with no predicted samples. Use `zero_division` parameter to control this behavior.\n",
      "  _warn_prf(average, modifier, msg_start, len(result))\n"
     ]
    }
   ],
   "source": [
    "classifier = MultinomialNB()\n",
    "classifier.fit(X_train, y_train)\n",
    "\n",
    "y_pred = classifier.predict(X_val)\n",
    "\n",
    "accuracy = accuracy_score(y_val, y_pred)\n",
    "print(\"Validation Accuracy:\", accuracy)\n",
    "print(classification_report(y_val, y_pred))"
   ]
  },
  {
   "cell_type": "code",
   "execution_count": 17,
   "id": "89be7305",
   "metadata": {
    "execution": {
     "iopub.execute_input": "2024-05-30T05:59:48.154539Z",
     "iopub.status.busy": "2024-05-30T05:59:48.154119Z",
     "iopub.status.idle": "2024-05-30T05:59:48.283405Z",
     "shell.execute_reply": "2024-05-30T05:59:48.282446Z"
    },
    "papermill": {
     "duration": 0.146481,
     "end_time": "2024-05-30T05:59:48.286183",
     "exception": false,
     "start_time": "2024-05-30T05:59:48.139702",
     "status": "completed"
    },
    "tags": []
   },
   "outputs": [],
   "source": [
    "# Use the trained model to make predictions on the test data\n",
    "X_test_predictions = classifier.predict(X_test)\n",
    "test_data['Predicted_Genre'] = X_test_predictions"
   ]
  },
  {
   "cell_type": "code",
   "execution_count": 18,
   "id": "a5652443",
   "metadata": {
    "execution": {
     "iopub.execute_input": "2024-05-30T05:59:48.314268Z",
     "iopub.status.busy": "2024-05-30T05:59:48.313863Z",
     "iopub.status.idle": "2024-05-30T05:59:51.194981Z",
     "shell.execute_reply": "2024-05-30T05:59:51.193704Z"
    },
    "papermill": {
     "duration": 2.898999,
     "end_time": "2024-05-30T05:59:51.198119",
     "exception": false,
     "start_time": "2024-05-30T05:59:48.299120",
     "status": "completed"
    },
    "tags": []
   },
   "outputs": [],
   "source": [
    "test_data.to_csv('predicted_genres.csv', index=False)"
   ]
  },
  {
   "cell_type": "code",
   "execution_count": 19,
   "id": "21edf64a",
   "metadata": {
    "execution": {
     "iopub.execute_input": "2024-05-30T05:59:51.227969Z",
     "iopub.status.busy": "2024-05-30T05:59:51.227481Z",
     "iopub.status.idle": "2024-05-30T05:59:51.247240Z",
     "shell.execute_reply": "2024-05-30T05:59:51.246045Z"
    },
    "papermill": {
     "duration": 0.038533,
     "end_time": "2024-05-30T05:59:51.250371",
     "exception": false,
     "start_time": "2024-05-30T05:59:51.211838",
     "status": "completed"
    },
    "tags": []
   },
   "outputs": [
    {
     "name": "stdout",
     "output_type": "stream",
     "text": [
      "          Id                             Title  \\\n",
      "0          1             Edgar's Lunch (1998)    \n",
      "1          2         La guerra de papá (1977)    \n",
      "2          3      Off the Beaten Track (2010)    \n",
      "3          4           Meu Amigo Hindu (2015)    \n",
      "4          5                Er nu zhai (1955)    \n",
      "...      ...                               ...   \n",
      "54195  54196   \"Tales of Light & Dark\" (2013)    \n",
      "54196  54197      Der letzte Mohikaner (1965)    \n",
      "54197  54198              Oliver Twink (2007)    \n",
      "54198  54199                Slipstream (1973)    \n",
      "54199  54200        Curitiba Zero Grau (2010)    \n",
      "\n",
      "                                             Description  \\\n",
      "0       L.R. Brane loves his life - his car, his apar...   \n",
      "1       Spain, March 1964: Quico is a very naughty ch...   \n",
      "2       One year in the life of Albin and his family ...   \n",
      "3       His father has died, he hasn't spoken with hi...   \n",
      "4       Before he was known internationally as a mart...   \n",
      "...                                                  ...   \n",
      "54195   Covering multiple genres, Tales of Light & Da...   \n",
      "54196   As Alice and Cora Munro attempt to find their...   \n",
      "54197   A movie 169 years in the making. Oliver Twist...   \n",
      "54198   Popular, but mysterious rock D.J Mike Mallard...   \n",
      "54199   Curitiba is a city in movement, with rhythms ...   \n",
      "\n",
      "                                           Text_cleaning Predicted_Genre  \n",
      "0      brane loves life car apartment job especially ...          drama   \n",
      "1      spain march quico naughty child three belongin...          drama   \n",
      "2      one year life albin family shepherds north tra...    documentary   \n",
      "3      father died hasnt spoken brother years serious...          drama   \n",
      "4      known internationally martial arts superstar b...          drama   \n",
      "...                                                  ...             ...  \n",
      "54195  covering multiple genres tales light dark anth...          drama   \n",
      "54196  alice cora munro attempt find father british o...          drama   \n",
      "54197  movie years making oliver twist artful dodger ...          drama   \n",
      "54198  popular mysterious rock mike mallard askew bro...          drama   \n",
      "54199  curitiba city movement rhythms different pulsa...    documentary   \n",
      "\n",
      "[54200 rows x 5 columns]\n"
     ]
    }
   ],
   "source": [
    "print(test_data)"
   ]
  },
  {
   "cell_type": "code",
   "execution_count": null,
   "id": "5f963f8a",
   "metadata": {
    "papermill": {
     "duration": 0.012904,
     "end_time": "2024-05-30T05:59:51.276823",
     "exception": false,
     "start_time": "2024-05-30T05:59:51.263919",
     "status": "completed"
    },
    "tags": []
   },
   "outputs": [],
   "source": []
  }
 ],
 "metadata": {
  "kaggle": {
   "accelerator": "none",
   "dataSources": [
    {
     "datasetId": 1417162,
     "sourceId": 2347441,
     "sourceType": "datasetVersion"
    }
   ],
   "dockerImageVersionId": 30698,
   "isGpuEnabled": false,
   "isInternetEnabled": false,
   "language": "python",
   "sourceType": "notebook"
  },
  "kernelspec": {
   "display_name": "Python 3",
   "language": "python",
   "name": "python3"
  },
  "language_info": {
   "codemirror_mode": {
    "name": "ipython",
    "version": 3
   },
   "file_extension": ".py",
   "mimetype": "text/x-python",
   "name": "python",
   "nbconvert_exporter": "python",
   "pygments_lexer": "ipython3",
   "version": "3.10.13"
  },
  "papermill": {
   "default_parameters": {},
   "duration": 202.279086,
   "end_time": "2024-05-30T05:59:52.115218",
   "environment_variables": {},
   "exception": null,
   "input_path": "__notebook__.ipynb",
   "output_path": "__notebook__.ipynb",
   "parameters": {},
   "start_time": "2024-05-30T05:56:29.836132",
   "version": "2.5.0"
  }
 },
 "nbformat": 4,
 "nbformat_minor": 5
}
