{
 "cells": [
  {
   "cell_type": "code",
   "execution_count": 1,
   "id": "3a45710f",
   "metadata": {
    "execution": {
     "iopub.execute_input": "2024-06-19T06:41:07.874062Z",
     "iopub.status.busy": "2024-06-19T06:41:07.873601Z",
     "iopub.status.idle": "2024-06-19T06:41:11.594200Z",
     "shell.execute_reply": "2024-06-19T06:41:11.592599Z"
    },
    "papermill": {
     "duration": 3.735971,
     "end_time": "2024-06-19T06:41:11.597481",
     "exception": false,
     "start_time": "2024-06-19T06:41:07.861510",
     "status": "completed"
    },
    "tags": []
   },
   "outputs": [],
   "source": [
    "import pandas as pd\n",
    "import numpy as np\n",
    "import matplotlib.pyplot as plt\n",
    "import seaborn as sns\n",
    "from sklearn.preprocessing import LabelEncoder\n",
    "import warnings\n",
    "warnings.filterwarnings('ignore')\n",
    "\n",
    "# handling imbalanced datasets and performing resampling techniques\n",
    "import imblearn\n",
    "from collections import Counter\n",
    "from imblearn.over_sampling import SMOTE\n",
    "from imblearn.under_sampling import RandomUnderSampler\n",
    "from imblearn.pipeline import Pipeline\n",
    "\n",
    "from sklearn.feature_extraction.text import TfidfVectorizer"
   ]
  },
  {
   "cell_type": "code",
   "execution_count": 2,
   "id": "8187b4a8",
   "metadata": {
    "execution": {
     "iopub.execute_input": "2024-06-19T06:41:11.618194Z",
     "iopub.status.busy": "2024-06-19T06:41:11.617445Z",
     "iopub.status.idle": "2024-06-19T06:41:11.674800Z",
     "shell.execute_reply": "2024-06-19T06:41:11.673335Z"
    },
    "papermill": {
     "duration": 0.07139,
     "end_time": "2024-06-19T06:41:11.678432",
     "exception": false,
     "start_time": "2024-06-19T06:41:11.607042",
     "status": "completed"
    },
    "tags": []
   },
   "outputs": [],
   "source": [
    "df=pd.read_csv(\"/kaggle/input/sms-spam-collection-dataset/spam.csv\",encoding=\"ISO-8859-1\")"
   ]
  },
  {
   "cell_type": "code",
   "execution_count": 3,
   "id": "7e6e936d",
   "metadata": {
    "execution": {
     "iopub.execute_input": "2024-06-19T06:41:11.700275Z",
     "iopub.status.busy": "2024-06-19T06:41:11.698698Z",
     "iopub.status.idle": "2024-06-19T06:41:11.726483Z",
     "shell.execute_reply": "2024-06-19T06:41:11.725004Z"
    },
    "papermill": {
     "duration": 0.041392,
     "end_time": "2024-06-19T06:41:11.729518",
     "exception": false,
     "start_time": "2024-06-19T06:41:11.688126",
     "status": "completed"
    },
    "tags": []
   },
   "outputs": [
    {
     "data": {
      "text/html": [
       "<div>\n",
       "<style scoped>\n",
       "    .dataframe tbody tr th:only-of-type {\n",
       "        vertical-align: middle;\n",
       "    }\n",
       "\n",
       "    .dataframe tbody tr th {\n",
       "        vertical-align: top;\n",
       "    }\n",
       "\n",
       "    .dataframe thead th {\n",
       "        text-align: right;\n",
       "    }\n",
       "</style>\n",
       "<table border=\"1\" class=\"dataframe\">\n",
       "  <thead>\n",
       "    <tr style=\"text-align: right;\">\n",
       "      <th></th>\n",
       "      <th>v1</th>\n",
       "      <th>v2</th>\n",
       "      <th>Unnamed: 2</th>\n",
       "      <th>Unnamed: 3</th>\n",
       "      <th>Unnamed: 4</th>\n",
       "    </tr>\n",
       "  </thead>\n",
       "  <tbody>\n",
       "    <tr>\n",
       "      <th>0</th>\n",
       "      <td>ham</td>\n",
       "      <td>Go until jurong point, crazy.. Available only ...</td>\n",
       "      <td>NaN</td>\n",
       "      <td>NaN</td>\n",
       "      <td>NaN</td>\n",
       "    </tr>\n",
       "    <tr>\n",
       "      <th>1</th>\n",
       "      <td>ham</td>\n",
       "      <td>Ok lar... Joking wif u oni...</td>\n",
       "      <td>NaN</td>\n",
       "      <td>NaN</td>\n",
       "      <td>NaN</td>\n",
       "    </tr>\n",
       "    <tr>\n",
       "      <th>2</th>\n",
       "      <td>spam</td>\n",
       "      <td>Free entry in 2 a wkly comp to win FA Cup fina...</td>\n",
       "      <td>NaN</td>\n",
       "      <td>NaN</td>\n",
       "      <td>NaN</td>\n",
       "    </tr>\n",
       "    <tr>\n",
       "      <th>3</th>\n",
       "      <td>ham</td>\n",
       "      <td>U dun say so early hor... U c already then say...</td>\n",
       "      <td>NaN</td>\n",
       "      <td>NaN</td>\n",
       "      <td>NaN</td>\n",
       "    </tr>\n",
       "    <tr>\n",
       "      <th>4</th>\n",
       "      <td>ham</td>\n",
       "      <td>Nah I don't think he goes to usf, he lives aro...</td>\n",
       "      <td>NaN</td>\n",
       "      <td>NaN</td>\n",
       "      <td>NaN</td>\n",
       "    </tr>\n",
       "  </tbody>\n",
       "</table>\n",
       "</div>"
      ],
      "text/plain": [
       "     v1                                                 v2 Unnamed: 2  \\\n",
       "0   ham  Go until jurong point, crazy.. Available only ...        NaN   \n",
       "1   ham                      Ok lar... Joking wif u oni...        NaN   \n",
       "2  spam  Free entry in 2 a wkly comp to win FA Cup fina...        NaN   \n",
       "3   ham  U dun say so early hor... U c already then say...        NaN   \n",
       "4   ham  Nah I don't think he goes to usf, he lives aro...        NaN   \n",
       "\n",
       "  Unnamed: 3 Unnamed: 4  \n",
       "0        NaN        NaN  \n",
       "1        NaN        NaN  \n",
       "2        NaN        NaN  \n",
       "3        NaN        NaN  \n",
       "4        NaN        NaN  "
      ]
     },
     "execution_count": 3,
     "metadata": {},
     "output_type": "execute_result"
    }
   ],
   "source": [
    "df.head()"
   ]
  },
  {
   "cell_type": "code",
   "execution_count": 4,
   "id": "c5626247",
   "metadata": {
    "execution": {
     "iopub.execute_input": "2024-06-19T06:41:11.749853Z",
     "iopub.status.busy": "2024-06-19T06:41:11.749445Z",
     "iopub.status.idle": "2024-06-19T06:41:11.757726Z",
     "shell.execute_reply": "2024-06-19T06:41:11.756446Z"
    },
    "papermill": {
     "duration": 0.021563,
     "end_time": "2024-06-19T06:41:11.760363",
     "exception": false,
     "start_time": "2024-06-19T06:41:11.738800",
     "status": "completed"
    },
    "tags": []
   },
   "outputs": [
    {
     "data": {
      "text/plain": [
       "(5572, 5)"
      ]
     },
     "execution_count": 4,
     "metadata": {},
     "output_type": "execute_result"
    }
   ],
   "source": [
    "df.shape"
   ]
  },
  {
   "cell_type": "code",
   "execution_count": 5,
   "id": "606f6729",
   "metadata": {
    "execution": {
     "iopub.execute_input": "2024-06-19T06:41:11.781847Z",
     "iopub.status.busy": "2024-06-19T06:41:11.780786Z",
     "iopub.status.idle": "2024-06-19T06:41:11.792744Z",
     "shell.execute_reply": "2024-06-19T06:41:11.791523Z"
    },
    "papermill": {
     "duration": 0.025727,
     "end_time": "2024-06-19T06:41:11.795724",
     "exception": false,
     "start_time": "2024-06-19T06:41:11.769997",
     "status": "completed"
    },
    "tags": []
   },
   "outputs": [],
   "source": [
    "df.drop(columns=['Unnamed: 2','Unnamed: 3','Unnamed: 4'],inplace=True)"
   ]
  },
  {
   "cell_type": "code",
   "execution_count": 6,
   "id": "7f694065",
   "metadata": {
    "execution": {
     "iopub.execute_input": "2024-06-19T06:41:11.817125Z",
     "iopub.status.busy": "2024-06-19T06:41:11.816660Z",
     "iopub.status.idle": "2024-06-19T06:41:11.844867Z",
     "shell.execute_reply": "2024-06-19T06:41:11.843119Z"
    },
    "papermill": {
     "duration": 0.04242,
     "end_time": "2024-06-19T06:41:11.848024",
     "exception": false,
     "start_time": "2024-06-19T06:41:11.805604",
     "status": "completed"
    },
    "tags": []
   },
   "outputs": [
    {
     "name": "stdout",
     "output_type": "stream",
     "text": [
      "<class 'pandas.core.frame.DataFrame'>\n",
      "RangeIndex: 5572 entries, 0 to 5571\n",
      "Data columns (total 2 columns):\n",
      " #   Column  Non-Null Count  Dtype \n",
      "---  ------  --------------  ----- \n",
      " 0   v1      5572 non-null   object\n",
      " 1   v2      5572 non-null   object\n",
      "dtypes: object(2)\n",
      "memory usage: 87.2+ KB\n"
     ]
    }
   ],
   "source": [
    "df.info()"
   ]
  },
  {
   "cell_type": "code",
   "execution_count": 7,
   "id": "c2c4df31",
   "metadata": {
    "execution": {
     "iopub.execute_input": "2024-06-19T06:41:11.868372Z",
     "iopub.status.busy": "2024-06-19T06:41:11.867975Z",
     "iopub.status.idle": "2024-06-19T06:41:11.879351Z",
     "shell.execute_reply": "2024-06-19T06:41:11.877806Z"
    },
    "papermill": {
     "duration": 0.02485,
     "end_time": "2024-06-19T06:41:11.882317",
     "exception": false,
     "start_time": "2024-06-19T06:41:11.857467",
     "status": "completed"
    },
    "tags": []
   },
   "outputs": [
    {
     "data": {
      "text/plain": [
       "v1    0\n",
       "v2    0\n",
       "dtype: int64"
      ]
     },
     "execution_count": 7,
     "metadata": {},
     "output_type": "execute_result"
    }
   ],
   "source": [
    "df.isna().sum()"
   ]
  },
  {
   "cell_type": "code",
   "execution_count": 8,
   "id": "c31b9834",
   "metadata": {
    "execution": {
     "iopub.execute_input": "2024-06-19T06:41:11.904793Z",
     "iopub.status.busy": "2024-06-19T06:41:11.904364Z",
     "iopub.status.idle": "2024-06-19T06:41:11.917648Z",
     "shell.execute_reply": "2024-06-19T06:41:11.916373Z"
    },
    "papermill": {
     "duration": 0.028204,
     "end_time": "2024-06-19T06:41:11.920775",
     "exception": false,
     "start_time": "2024-06-19T06:41:11.892571",
     "status": "completed"
    },
    "tags": []
   },
   "outputs": [
    {
     "data": {
      "text/plain": [
       "403"
      ]
     },
     "execution_count": 8,
     "metadata": {},
     "output_type": "execute_result"
    }
   ],
   "source": [
    "df.duplicated().sum()"
   ]
  },
  {
   "cell_type": "code",
   "execution_count": 9,
   "id": "cdef4421",
   "metadata": {
    "execution": {
     "iopub.execute_input": "2024-06-19T06:41:11.943527Z",
     "iopub.status.busy": "2024-06-19T06:41:11.943131Z",
     "iopub.status.idle": "2024-06-19T06:41:11.956250Z",
     "shell.execute_reply": "2024-06-19T06:41:11.954732Z"
    },
    "papermill": {
     "duration": 0.028134,
     "end_time": "2024-06-19T06:41:11.959638",
     "exception": false,
     "start_time": "2024-06-19T06:41:11.931504",
     "status": "completed"
    },
    "tags": []
   },
   "outputs": [],
   "source": [
    "df= df.drop_duplicates()"
   ]
  },
  {
   "cell_type": "code",
   "execution_count": 10,
   "id": "79a7bfdb",
   "metadata": {
    "execution": {
     "iopub.execute_input": "2024-06-19T06:41:11.981665Z",
     "iopub.status.busy": "2024-06-19T06:41:11.981089Z",
     "iopub.status.idle": "2024-06-19T06:41:11.988499Z",
     "shell.execute_reply": "2024-06-19T06:41:11.987173Z"
    },
    "papermill": {
     "duration": 0.021904,
     "end_time": "2024-06-19T06:41:11.991672",
     "exception": false,
     "start_time": "2024-06-19T06:41:11.969768",
     "status": "completed"
    },
    "tags": []
   },
   "outputs": [],
   "source": [
    "df.rename(columns={'v1':'Target', 'v2':'Text'},inplace=True)"
   ]
  },
  {
   "cell_type": "code",
   "execution_count": 11,
   "id": "53f11361",
   "metadata": {
    "execution": {
     "iopub.execute_input": "2024-06-19T06:41:12.016809Z",
     "iopub.status.busy": "2024-06-19T06:41:12.016324Z",
     "iopub.status.idle": "2024-06-19T06:41:12.026081Z",
     "shell.execute_reply": "2024-06-19T06:41:12.024808Z"
    },
    "papermill": {
     "duration": 0.027502,
     "end_time": "2024-06-19T06:41:12.029710",
     "exception": false,
     "start_time": "2024-06-19T06:41:12.002208",
     "status": "completed"
    },
    "tags": []
   },
   "outputs": [],
   "source": [
    "encoder=LabelEncoder()\n",
    "df['Target']=encoder.fit_transform(df['Target'])\n"
   ]
  },
  {
   "cell_type": "code",
   "execution_count": 12,
   "id": "f547a333",
   "metadata": {
    "execution": {
     "iopub.execute_input": "2024-06-19T06:41:12.052624Z",
     "iopub.status.busy": "2024-06-19T06:41:12.052180Z",
     "iopub.status.idle": "2024-06-19T06:41:12.064827Z",
     "shell.execute_reply": "2024-06-19T06:41:12.063398Z"
    },
    "papermill": {
     "duration": 0.027608,
     "end_time": "2024-06-19T06:41:12.068082",
     "exception": false,
     "start_time": "2024-06-19T06:41:12.040474",
     "status": "completed"
    },
    "tags": []
   },
   "outputs": [
    {
     "data": {
      "text/html": [
       "<div>\n",
       "<style scoped>\n",
       "    .dataframe tbody tr th:only-of-type {\n",
       "        vertical-align: middle;\n",
       "    }\n",
       "\n",
       "    .dataframe tbody tr th {\n",
       "        vertical-align: top;\n",
       "    }\n",
       "\n",
       "    .dataframe thead th {\n",
       "        text-align: right;\n",
       "    }\n",
       "</style>\n",
       "<table border=\"1\" class=\"dataframe\">\n",
       "  <thead>\n",
       "    <tr style=\"text-align: right;\">\n",
       "      <th></th>\n",
       "      <th>Target</th>\n",
       "      <th>Text</th>\n",
       "    </tr>\n",
       "  </thead>\n",
       "  <tbody>\n",
       "    <tr>\n",
       "      <th>0</th>\n",
       "      <td>0</td>\n",
       "      <td>Go until jurong point, crazy.. Available only ...</td>\n",
       "    </tr>\n",
       "    <tr>\n",
       "      <th>1</th>\n",
       "      <td>0</td>\n",
       "      <td>Ok lar... Joking wif u oni...</td>\n",
       "    </tr>\n",
       "    <tr>\n",
       "      <th>2</th>\n",
       "      <td>1</td>\n",
       "      <td>Free entry in 2 a wkly comp to win FA Cup fina...</td>\n",
       "    </tr>\n",
       "    <tr>\n",
       "      <th>3</th>\n",
       "      <td>0</td>\n",
       "      <td>U dun say so early hor... U c already then say...</td>\n",
       "    </tr>\n",
       "    <tr>\n",
       "      <th>4</th>\n",
       "      <td>0</td>\n",
       "      <td>Nah I don't think he goes to usf, he lives aro...</td>\n",
       "    </tr>\n",
       "  </tbody>\n",
       "</table>\n",
       "</div>"
      ],
      "text/plain": [
       "   Target                                               Text\n",
       "0       0  Go until jurong point, crazy.. Available only ...\n",
       "1       0                      Ok lar... Joking wif u oni...\n",
       "2       1  Free entry in 2 a wkly comp to win FA Cup fina...\n",
       "3       0  U dun say so early hor... U c already then say...\n",
       "4       0  Nah I don't think he goes to usf, he lives aro..."
      ]
     },
     "execution_count": 12,
     "metadata": {},
     "output_type": "execute_result"
    }
   ],
   "source": [
    "df.head()"
   ]
  },
  {
   "cell_type": "code",
   "execution_count": 13,
   "id": "af648884",
   "metadata": {
    "execution": {
     "iopub.execute_input": "2024-06-19T06:41:12.092501Z",
     "iopub.status.busy": "2024-06-19T06:41:12.092093Z",
     "iopub.status.idle": "2024-06-19T06:41:12.334172Z",
     "shell.execute_reply": "2024-06-19T06:41:12.332397Z"
    },
    "papermill": {
     "duration": 0.259145,
     "end_time": "2024-06-19T06:41:12.337784",
     "exception": false,
     "start_time": "2024-06-19T06:41:12.078639",
     "status": "completed"
    },
    "tags": []
   },
   "outputs": [
    {
     "data": {
      "image/png": "[encoded data removed]",
      "text/plain": [
       "<Figure size 640x480 with 1 Axes>"
      ]
     },
     "metadata": {},
     "output_type": "display_data"
    }
   ],
   "source": [
    "plt.hist(df['Target'], bins=2, edgecolor='black')\n",
    "plt.xticks([0.25, 0.75], ['Ham', 'Spam'])\n",
    "plt.show()"
   ]
  },
  {
   "cell_type": "markdown",
   "id": "1ae3153c",
   "metadata": {
    "papermill": {
     "duration": 0.011392,
     "end_time": "2024-06-19T06:41:12.361726",
     "exception": false,
     "start_time": "2024-06-19T06:41:12.350334",
     "status": "completed"
    },
    "tags": []
   },
   "source": [
    "> **Data Preprocessing**"
   ]
  },
  {
   "cell_type": "markdown",
   "id": "690b44d2",
   "metadata": {
    "papermill": {
     "duration": 0.013865,
     "end_time": "2024-06-19T06:41:12.387166",
     "exception": false,
     "start_time": "2024-06-19T06:41:12.373301",
     "status": "completed"
    },
    "tags": []
   },
   "source": [
    "**Function to process text**"
   ]
  },
  {
   "cell_type": "code",
   "execution_count": 14,
   "id": "2ca1ad6e",
   "metadata": {
    "execution": {
     "iopub.execute_input": "2024-06-19T06:41:12.412766Z",
     "iopub.status.busy": "2024-06-19T06:41:12.412317Z",
     "iopub.status.idle": "2024-06-19T06:41:12.418858Z",
     "shell.execute_reply": "2024-06-19T06:41:12.417596Z"
    },
    "papermill": {
     "duration": 0.021174,
     "end_time": "2024-06-19T06:41:12.421733",
     "exception": false,
     "start_time": "2024-06-19T06:41:12.400559",
     "status": "completed"
    },
    "tags": []
   },
   "outputs": [],
   "source": [
    "x = df['Text']\n",
    "y = df['Target']"
   ]
  },
  {
   "cell_type": "code",
   "execution_count": 15,
   "id": "70b0a266",
   "metadata": {
    "execution": {
     "iopub.execute_input": "2024-06-19T06:41:12.443702Z",
     "iopub.status.busy": "2024-06-19T06:41:12.443274Z",
     "iopub.status.idle": "2024-06-19T06:41:12.650299Z",
     "shell.execute_reply": "2024-06-19T06:41:12.648829Z"
    },
    "papermill": {
     "duration": 0.222058,
     "end_time": "2024-06-19T06:41:12.653680",
     "exception": false,
     "start_time": "2024-06-19T06:41:12.431622",
     "status": "completed"
    },
    "tags": []
   },
   "outputs": [],
   "source": [
    "feature_extraction = TfidfVectorizer(min_df = 1, stop_words='english', lowercase=True)\n",
    "\n",
    "x_extraction = feature_extraction.fit_transform(x)"
   ]
  },
  {
   "cell_type": "code",
   "execution_count": 16,
   "id": "cc33ef06",
   "metadata": {
    "execution": {
     "iopub.execute_input": "2024-06-19T06:41:12.676491Z",
     "iopub.status.busy": "2024-06-19T06:41:12.676066Z",
     "iopub.status.idle": "2024-06-19T06:41:12.684173Z",
     "shell.execute_reply": "2024-06-19T06:41:12.682460Z"
    },
    "papermill": {
     "duration": 0.023041,
     "end_time": "2024-06-19T06:41:12.687042",
     "exception": false,
     "start_time": "2024-06-19T06:41:12.664001",
     "status": "completed"
    },
    "tags": []
   },
   "outputs": [],
   "source": [
    "# data splitting, model evaluation metrics, cross-validation, hyperparameter tuning, and classification performance\n",
    "from sklearn.model_selection import train_test_split\n",
    "from sklearn.metrics import confusion_matrix\n",
    "from sklearn.metrics import roc_auc_score, roc_curve\n",
    "from sklearn.model_selection import cross_val_score\n",
    "from sklearn.model_selection import GridSearchCV\n",
    "from sklearn.metrics import classification_report\n",
    "from sklearn.metrics import accuracy_score\n",
    "from sklearn.model_selection import RepeatedStratifiedKFold\n",
    "from sklearn.metrics import precision_recall_curve\n",
    "\n",
    "from sklearn.linear_model import LogisticRegression"
   ]
  },
  {
   "cell_type": "code",
   "execution_count": 17,
   "id": "387df52c",
   "metadata": {
    "execution": {
     "iopub.execute_input": "2024-06-19T06:41:12.714131Z",
     "iopub.status.busy": "2024-06-19T06:41:12.712717Z",
     "iopub.status.idle": "2024-06-19T06:41:12.899184Z",
     "shell.execute_reply": "2024-06-19T06:41:12.897951Z"
    },
    "papermill": {
     "duration": 0.204753,
     "end_time": "2024-06-19T06:41:12.901950",
     "exception": false,
     "start_time": "2024-06-19T06:41:12.697197",
     "status": "completed"
    },
    "tags": []
   },
   "outputs": [
    {
     "data": {
      "text/plain": [
       "Counter({0: 1632, 1: 1632})"
      ]
     },
     "execution_count": 17,
     "metadata": {},
     "output_type": "execute_result"
    }
   ],
   "source": [
    "# Performing oversampling and undersampling using SMOTE and RandomUnderSampler techniques to address class imbalance\n",
    "\n",
    "over = SMOTE(sampling_strategy = 1)\n",
    "under = RandomUnderSampler(sampling_strategy = 0.4)\n",
    "f1 = x_extraction\n",
    "t1 = y\n",
    "\n",
    "steps = [('under', under),('over', over)]\n",
    "pipeline = Pipeline(steps=steps)\n",
    "f1, t1 = pipeline.fit_resample(f1, t1)\n",
    "Counter(t1)"
   ]
  },
  {
   "cell_type": "code",
   "execution_count": 18,
   "id": "efaf9009",
   "metadata": {
    "execution": {
     "iopub.execute_input": "2024-06-19T06:41:12.925876Z",
     "iopub.status.busy": "2024-06-19T06:41:12.924699Z",
     "iopub.status.idle": "2024-06-19T06:41:12.934961Z",
     "shell.execute_reply": "2024-06-19T06:41:12.933604Z"
    },
    "papermill": {
     "duration": 0.026106,
     "end_time": "2024-06-19T06:41:12.938340",
     "exception": false,
     "start_time": "2024-06-19T06:41:12.912234",
     "status": "completed"
    },
    "tags": []
   },
   "outputs": [],
   "source": [
    "x_train, x_test, y_train, y_test = train_test_split(f1, t1, test_size=0.3, random_state=101)"
   ]
  },
  {
   "cell_type": "code",
   "execution_count": 19,
   "id": "bad62788",
   "metadata": {
    "execution": {
     "iopub.execute_input": "2024-06-19T06:41:12.961386Z",
     "iopub.status.busy": "2024-06-19T06:41:12.960888Z",
     "iopub.status.idle": "2024-06-19T06:41:13.054798Z",
     "shell.execute_reply": "2024-06-19T06:41:13.053331Z"
    },
    "papermill": {
     "duration": 0.1095,
     "end_time": "2024-06-19T06:41:13.058276",
     "exception": false,
     "start_time": "2024-06-19T06:41:12.948776",
     "status": "completed"
    },
    "tags": []
   },
   "outputs": [
    {
     "data": {
      "text/html": [
       "<style>#sk-container-id-1 {color: black;background-color: white;}#sk-container-id-1 pre{padding: 0;}#sk-container-id-1 div.sk-toggleable {background-color: white;}#sk-container-id-1 label.sk-toggleable__label {cursor: pointer;display: block;width: 100%;margin-bottom: 0;padding: 0.3em;box-sizing: border-box;text-align: center;}#sk-container-id-1 label.sk-toggleable__label-arrow:before {content: \"▸\";float: left;margin-right: 0.25em;color: #696969;}#sk-container-id-1 label.sk-toggleable__label-arrow:hover:before {color: black;}#sk-container-id-1 div.sk-estimator:hover label.sk-toggleable__label-arrow:before {color: black;}#sk-container-id-1 div.sk-toggleable__content {max-height: 0;max-width: 0;overflow: hidden;text-align: left;background-color: #f0f8ff;}#sk-container-id-1 div.sk-toggleable__content pre {margin: 0.2em;color: black;border-radius: 0.25em;background-color: #f0f8ff;}#sk-container-id-1 input.sk-toggleable__control:checked~div.sk-toggleable__content {max-height: 200px;max-width: 100%;overflow: auto;}#sk-container-id-1 input.sk-toggleable__control:checked~label.sk-toggleable__label-arrow:before {content: \"▾\";}#sk-container-id-1 div.sk-estimator input.sk-toggleable__control:checked~label.sk-toggleable__label {background-color: #d4ebff;}#sk-container-id-1 div.sk-label input.sk-toggleable__control:checked~label.sk-toggleable__label {background-color: #d4ebff;}#sk-container-id-1 input.sk-hidden--visually {border: 0;clip: rect(1px 1px 1px 1px);clip: rect(1px, 1px, 1px, 1px);height: 1px;margin: -1px;overflow: hidden;padding: 0;position: absolute;width: 1px;}#sk-container-id-1 div.sk-estimator {font-family: monospace;background-color: #f0f8ff;border: 1px dotted black;border-radius: 0.25em;box-sizing: border-box;margin-bottom: 0.5em;}#sk-container-id-1 div.sk-estimator:hover {background-color: #d4ebff;}#sk-container-id-1 div.sk-parallel-item::after {content: \"\";width: 100%;border-bottom: 1px solid gray;flex-grow: 1;}#sk-container-id-1 div.sk-label:hover label.sk-toggleable__label {background-color: #d4ebff;}#sk-container-id-1 div.sk-serial::before {content: \"\";position: absolute;border-left: 1px solid gray;box-sizing: border-box;top: 0;bottom: 0;left: 50%;z-index: 0;}#sk-container-id-1 div.sk-serial {display: flex;flex-direction: column;align-items: center;background-color: white;padding-right: 0.2em;padding-left: 0.2em;position: relative;}#sk-container-id-1 div.sk-item {position: relative;z-index: 1;}#sk-container-id-1 div.sk-parallel {display: flex;align-items: stretch;justify-content: center;background-color: white;position: relative;}#sk-container-id-1 div.sk-item::before, #sk-container-id-1 div.sk-parallel-item::before {content: \"\";position: absolute;border-left: 1px solid gray;box-sizing: border-box;top: 0;bottom: 0;left: 50%;z-index: -1;}#sk-container-id-1 div.sk-parallel-item {display: flex;flex-direction: column;z-index: 1;position: relative;background-color: white;}#sk-container-id-1 div.sk-parallel-item:first-child::after {align-self: flex-end;width: 50%;}#sk-container-id-1 div.sk-parallel-item:last-child::after {align-self: flex-start;width: 50%;}#sk-container-id-1 div.sk-parallel-item:only-child::after {width: 0;}#sk-container-id-1 div.sk-dashed-wrapped {border: 1px dashed gray;margin: 0 0.4em 0.5em 0.4em;box-sizing: border-box;padding-bottom: 0.4em;background-color: white;}#sk-container-id-1 div.sk-label label {font-family: monospace;font-weight: bold;display: inline-block;line-height: 1.2em;}#sk-container-id-1 div.sk-label-container {text-align: center;}#sk-container-id-1 div.sk-container {/* jupyter's `normalize.less` sets `[hidden] { display: none; }` but bootstrap.min.css set `[hidden] { display: none !important; }` so we also need the `!important` here to be able to override the default hidden behavior on the sphinx rendered scikit-learn.org. See: https://github.com/scikit-learn/scikit-learn/issues/21755 */display: inline-block !important;position: relative;}#sk-container-id-1 div.sk-text-repr-fallback {display: none;}</style><div id=\"sk-container-id-1\" class=\"sk-top-container\"><div class=\"sk-text-repr-fallback\"><pre>LogisticRegression()</pre><b>In a Jupyter environment, please rerun this cell to show the HTML representation or trust the notebook. <br />On GitHub, the HTML representation is unable to render, please try loading this page with nbviewer.org.</b></div><div class=\"sk-container\" hidden><div class=\"sk-item\"><div class=\"sk-estimator sk-toggleable\"><input class=\"sk-toggleable__control sk-hidden--visually\" id=\"sk-estimator-id-1\" type=\"checkbox\" checked><label for=\"sk-estimator-id-1\" class=\"sk-toggleable__label sk-toggleable__label-arrow\">LogisticRegression</label><div class=\"sk-toggleable__content\"><pre>LogisticRegression()</pre></div></div></div></div></div>"
      ],
      "text/plain": [
       "LogisticRegression()"
      ]
     },
     "execution_count": 19,
     "metadata": {},
     "output_type": "execute_result"
    }
   ],
   "source": [
    "# Initialize the logistic regression model\n",
    "logistic_model = LogisticRegression()\n",
    "\n",
    "# Train the model on the training data\n",
    "logistic_model.fit(x_train, y_train)\n"
   ]
  },
  {
   "cell_type": "code",
   "execution_count": 20,
   "id": "778bc88c",
   "metadata": {
    "execution": {
     "iopub.execute_input": "2024-06-19T06:41:13.083246Z",
     "iopub.status.busy": "2024-06-19T06:41:13.082783Z",
     "iopub.status.idle": "2024-06-19T06:41:13.089755Z",
     "shell.execute_reply": "2024-06-19T06:41:13.088492Z"
    },
    "papermill": {
     "duration": 0.023635,
     "end_time": "2024-06-19T06:41:13.092986",
     "exception": false,
     "start_time": "2024-06-19T06:41:13.069351",
     "status": "completed"
    },
    "tags": []
   },
   "outputs": [],
   "source": [
    "y_pred = logistic_model.predict(x_test)"
   ]
  },
  {
   "cell_type": "code",
   "execution_count": 21,
   "id": "0dbf32f1",
   "metadata": {
    "execution": {
     "iopub.execute_input": "2024-06-19T06:41:13.119902Z",
     "iopub.status.busy": "2024-06-19T06:41:13.119408Z",
     "iopub.status.idle": "2024-06-19T06:41:13.129789Z",
     "shell.execute_reply": "2024-06-19T06:41:13.128191Z"
    },
    "papermill": {
     "duration": 0.027857,
     "end_time": "2024-06-19T06:41:13.133057",
     "exception": false,
     "start_time": "2024-06-19T06:41:13.105200",
     "status": "completed"
    },
    "tags": []
   },
   "outputs": [
    {
     "name": "stdout",
     "output_type": "stream",
     "text": [
      "Confusion Matrix:\n",
      "[[500   4]\n",
      " [ 25 451]]\n"
     ]
    }
   ],
   "source": [
    "# Evaluate the model's performance\n",
    "print(\"Confusion Matrix:\")\n",
    "print(confusion_matrix(y_test, y_pred))"
   ]
  },
  {
   "cell_type": "code",
   "execution_count": 22,
   "id": "93ff0755",
   "metadata": {
    "execution": {
     "iopub.execute_input": "2024-06-19T06:41:13.156773Z",
     "iopub.status.busy": "2024-06-19T06:41:13.156280Z",
     "iopub.status.idle": "2024-06-19T06:41:13.174935Z",
     "shell.execute_reply": "2024-06-19T06:41:13.172773Z"
    },
    "papermill": {
     "duration": 0.033938,
     "end_time": "2024-06-19T06:41:13.178038",
     "exception": false,
     "start_time": "2024-06-19T06:41:13.144100",
     "status": "completed"
    },
    "tags": []
   },
   "outputs": [
    {
     "name": "stdout",
     "output_type": "stream",
     "text": [
      "\n",
      "Classification Report:\n",
      "              precision    recall  f1-score   support\n",
      "\n",
      "           0       0.95      0.99      0.97       504\n",
      "           1       0.99      0.95      0.97       476\n",
      "\n",
      "    accuracy                           0.97       980\n",
      "   macro avg       0.97      0.97      0.97       980\n",
      "weighted avg       0.97      0.97      0.97       980\n",
      "\n"
     ]
    }
   ],
   "source": [
    "print(\"\\nClassification Report:\")\n",
    "print(classification_report(y_test, y_pred))"
   ]
  },
  {
   "cell_type": "code",
   "execution_count": 23,
   "id": "e87c128a",
   "metadata": {
    "execution": {
     "iopub.execute_input": "2024-06-19T06:41:13.201182Z",
     "iopub.status.busy": "2024-06-19T06:41:13.200735Z",
     "iopub.status.idle": "2024-06-19T06:41:13.209586Z",
     "shell.execute_reply": "2024-06-19T06:41:13.207888Z"
    },
    "papermill": {
     "duration": 0.024276,
     "end_time": "2024-06-19T06:41:13.212732",
     "exception": false,
     "start_time": "2024-06-19T06:41:13.188456",
     "status": "completed"
    },
    "tags": []
   },
   "outputs": [
    {
     "name": "stdout",
     "output_type": "stream",
     "text": [
      "\n",
      "Accuracy Score:\n",
      "0.9704081632653061\n"
     ]
    }
   ],
   "source": [
    "print(\"\\nAccuracy Score:\")\n",
    "print(accuracy_score(y_test, y_pred))"
   ]
  }
 ],
 "metadata": {
  "kaggle": {
   "accelerator": "none",
   "dataSources": [
    {
     "datasetId": 483,
     "sourceId": 982,
     "sourceType": "datasetVersion"
    }
   ],
   "dockerImageVersionId": 30732,
   "isGpuEnabled": false,
   "isInternetEnabled": false,
   "language": "python",
   "sourceType": "notebook"
  },
  "kernelspec": {
   "display_name": "Python 3",
   "language": "python",
   "name": "python3"
  },
  "language_info": {
   "codemirror_mode": {
    "name": "ipython",
    "version": 3
   },
   "file_extension": ".py",
   "mimetype": "text/x-python",
   "name": "python",
   "nbconvert_exporter": "python",
   "pygments_lexer": "ipython3",
   "version": "3.10.13"
  },
  "papermill": {
   "default_parameters": {},
   "duration": 9.820504,
   "end_time": "2024-06-19T06:41:14.048781",
   "environment_variables": {},
   "exception": null,
   "input_path": "__notebook__.ipynb",
   "output_path": "__notebook__.ipynb",
   "parameters": {},
   "start_time": "2024-06-19T06:41:04.228277",
   "version": "2.5.0"
  }
 },
 "nbformat": 4,
 "nbformat_minor": 5
}
